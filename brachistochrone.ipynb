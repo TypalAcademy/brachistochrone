{
  "nbformat": 4,
  "nbformat_minor": 0,
  "metadata": {
    "colab": {
      "provenance": []
    },
    "kernelspec": {
      "name": "python3",
      "display_name": "Python 3"
    },
    "language_info": {
      "name": "python"
    }
  },
  "cells": [
    {
      "cell_type": "markdown",
      "source": [
        "## Solve for parameters $T$ and $R$\n",
        "\n",
        "Here the bisection method is used following the notes in slides appendix."
      ],
      "metadata": {
        "id": "0HCHMIecTOxv"
      }
    },
    {
      "cell_type": "code",
      "source": [
        "import math\n",
        "\n",
        "def solve_cycloid_params(\n",
        "    *,\n",
        "    x1: float,\n",
        "    y1: float,\n",
        "    x2: float,\n",
        "    y2: float,\n",
        "    g: float,\n",
        "    tol=1e-12\n",
        ") -> tuple[float, float]:\n",
        "    Δx = x2 - x1\n",
        "    Δy = y2 - y1\n",
        "    if Δy == 0:\n",
        "        raise ValueError(\"No vertical drop (dy=0): brachistochrone needs Δy ≠ 0.\")\n",
        "    if Δx <= 0:\n",
        "        raise ValueError(\"Expect x2 > x1 for left-to-right arc.\")\n",
        "\n",
        "    def f(θ):\n",
        "        return Δx - Δy * (θ - math.sin(θ)) / (math.cos(θ) - 1.0)\n",
        "\n",
        "    # Bounds for solution.\n",
        "    θ_lo, θ_hi = 1e-12, 2*math.pi - 1e-12\n",
        "\n",
        "    # Bisection\n",
        "    for _ in range(200):\n",
        "        θ = 0.5 * (θ_lo + θ_hi)\n",
        "        if f(θ) > 0:\n",
        "            θ_lo = θ\n",
        "        else:\n",
        "            θ_hi = θ\n",
        "        if θ_hi - θ_lo < tol:\n",
        "            break\n",
        "\n",
        "    θ = 0.5 * (θ_lo + θ_hi)\n",
        "    R = Δx / (θ - math.sin(θ))\n",
        "    T = θ * math.sqrt(R / g)\n",
        "\n",
        "    return R, T"
      ],
      "metadata": {
        "id": "Sm9jDNxgCiir"
      },
      "execution_count": 1,
      "outputs": []
    },
    {
      "cell_type": "markdown",
      "source": [
        "## Configure Brachistochrone Constraints"
      ],
      "metadata": {
        "id": "LbUXdpwXWb3r"
      }
    },
    {
      "cell_type": "code",
      "source": [
        "p1x, p1y = 0.0, 2.5 # initial point\n",
        "p2x, p2y = 6.0, 0.0 # final point\n",
        "g = 1.0             # gravitational constant\n",
        "\n",
        "x_line = 0.0        # initialize first point of line\n",
        "x_cycl = 0.0        # initialize first point of cycloid\n",
        "Δt = 0.10           # time step size\n",
        "max_iters = 100     # max number of time steps\n",
        "\n",
        "cycl_rad, final_time = solve_cycloid_params(x1=p1x, y1=p1y, x2=p2x, y2=p2y, g=g)\n",
        "\n",
        "print(f\"cycloid radius = {cycl_rad:.5f}\")\n",
        "print(f\"final time     = {final_time:.5f}\")"
      ],
      "metadata": {
        "colab": {
          "base_uri": "https://localhost:8080/"
        },
        "id": "7uV_pPOfDOYw",
        "outputId": "cb55171f-80c4-4118-b125-44018c09f79b"
      },
      "execution_count": 2,
      "outputs": [
        {
          "output_type": "stream",
          "name": "stdout",
          "text": [
            "cycloid radius = 1.37974\n",
            "final time     = 4.42236\n"
          ]
        }
      ]
    },
    {
      "cell_type": "markdown",
      "source": [
        "## Define Forward Euler Step\n",
        "\n"
      ],
      "metadata": {
        "id": "VbDcjsUWXbmS"
      }
    },
    {
      "cell_type": "code",
      "execution_count": 3,
      "metadata": {
        "id": "QpiqLpYooSYd"
      },
      "outputs": [],
      "source": [
        "def dxdt(\n",
        "    *,\n",
        "    x: float,\n",
        "    func: callable,\n",
        "    grad: callable,\n",
        "    ε: float = 1.0e-8\n",
        ") -> float:\n",
        "    \"\"\"Evaluate dx/dt using conservation of energy and paramaterization y(x)\n",
        "\n",
        "    To make forward Euler be well-defined at time t=0, we add ε > 0 as the\n",
        "    initial energy. We could overcome this by using backward Euler, but\n",
        "    for sake of illustration, this will be sufficient (since its not\n",
        "    noticeable with naked eye).\n",
        "    \"\"\"\n",
        "    return (ε - func(x) / (1.0 + grad(x) ** 2.0)) ** 0.5\n",
        "\n",
        "def forward_euler(\n",
        "    *,\n",
        "    x: float,\n",
        "    func: callable,\n",
        "    grad: callable,\n",
        "    x_max: float,\n",
        ") -> float:\n",
        "    \"\"\"Execute a single forward euler step, stopping at endpoint\"\"\"\n",
        "    x_new = x +  Δt * dxdt(x=x, func=func, grad=grad)\n",
        "    return min(x_max, x_new)\n"
      ]
    },
    {
      "cell_type": "markdown",
      "source": [
        "## Curve $y(x)$ and Derivative $y'(x)$"
      ],
      "metadata": {
        "id": "_kx6MKEtXeTn"
      }
    },
    {
      "cell_type": "code",
      "source": [
        "import math\n",
        "\n",
        "def line(z) -> float:\n",
        "    return - z * p1y / p2x\n",
        "\n",
        "def line_grad(z) -> float:\n",
        "    return - p1y / p2x\n",
        "\n",
        "def get_theta(*, x: float, R: float) -> float:\n",
        "    θ_min = 0.0\n",
        "    θ_max = 6.0\n",
        "    θ = 0.5 * (θ_min + θ_max)\n",
        "\n",
        "    while θ_max - θ_min > 1.0e-6:\n",
        "        θ = 0.5 * (θ_min + θ_max)\n",
        "        if x < R * (θ - math.sin(θ)):\n",
        "            θ_max = θ\n",
        "        else:\n",
        "            θ_min = θ\n",
        "\n",
        "    return θ\n",
        "\n",
        "def cycloid(x: float, R=cycl_rad) -> float:\n",
        "    \"\"\"Return y value on cycloid\n",
        "\n",
        "    Note:\n",
        "        x = R * (θ - sin(θ))\n",
        "        y = R * (1 - cos(θ))\n",
        "    \"\"\"\n",
        "    θ = get_theta(x=x, R=R)\n",
        "    return - R * (1 - math.cos(θ))\n",
        "\n",
        "def cycloid_grad(x: float, R=cycl_rad) -> float:\n",
        "    \"\"\"\n",
        "        dy/dx = dy/dθ * dθ/dx\n",
        "\n",
        "        1 = R * (1 - cos(θ)) * dθ/dx\n",
        "\n",
        "        and so\n",
        "\n",
        "        dθ/dx = (R * (1 - cos(θ))) ** -1.0\n",
        "    \"\"\"\n",
        "    θ = get_theta(x=x, R=R)\n",
        "    dydθ = R * math.sin(θ)\n",
        "    dθdx = (R * (1 - math.cos(θ))) ** -1.0\n",
        "    return dydθ * dθdx"
      ],
      "metadata": {
        "id": "A5XcwOnso5_g"
      },
      "execution_count": 4,
      "outputs": []
    },
    {
      "cell_type": "markdown",
      "source": [
        "## Execute Forward Euler for Each Curve"
      ],
      "metadata": {
        "id": "HsZkWZShXSUA"
      }
    },
    {
      "cell_type": "code",
      "source": [
        "points_line = []\n",
        "points_cycl = []\n",
        "for k in range(max_iters):\n",
        "    x_line = forward_euler(\n",
        "        x=x_line, func=line, grad=line_grad, x_max=p2x\n",
        "    )\n",
        "    x_cycl = forward_euler(\n",
        "        x=x_cycl, func=cycloid, grad=cycloid_grad, x_max=p2x,\n",
        "    )\n",
        "\n",
        "    points_line.append((x_line, p1y + line(x_line)))\n",
        "    points_cycl.append((x_cycl, p1y + cycloid(x_cycl)))"
      ],
      "metadata": {
        "id": "gApHIem85Qps"
      },
      "execution_count": 5,
      "outputs": []
    },
    {
      "cell_type": "markdown",
      "source": [
        "## Plot Results"
      ],
      "metadata": {
        "id": "7p37ePDXXMpR"
      }
    },
    {
      "cell_type": "code",
      "source": [
        "import matplotlib.pyplot as plt\n",
        "\n",
        "x, y = zip(*points_cycl)\n",
        "plt.plot(x, y, marker='o', label=\"cycloid\")\n",
        "\n",
        "x, y = zip(*points_line)\n",
        "plt.plot(x, y, marker='o', label=\"line\")\n",
        "\n",
        "plt.xlabel(\"x\")\n",
        "plt.ylabel(\"y\")\n",
        "plt.legend()\n",
        "plt.show()"
      ],
      "metadata": {
        "colab": {
          "base_uri": "https://localhost:8080/",
          "height": 449
        },
        "id": "kxSheRdVs4vI",
        "outputId": "58172b29-1cc8-4253-ef85-3181862d5609"
      },
      "execution_count": 6,
      "outputs": [
        {
          "output_type": "display_data",
          "data": {
            "text/plain": [
              "<Figure size 640x480 with 1 Axes>"
            ],
            "image/png": "[encoded data removed]"
          },
          "metadata": {}
        }
      ]
    },
    {
      "cell_type": "markdown",
      "source": [
        "## Save Results to File"
      ],
      "metadata": {
        "id": "-BlJ8rxUXOjw"
      }
    },
    {
      "cell_type": "code",
      "source": [
        "import csv\n",
        "from pathlib import Path\n",
        "\n",
        "outfile = Path(\"brachistochrone_points.csv\")\n",
        "with outfile.open(\"w\", newline=\"\") as f:\n",
        "    w = csv.writer(f)\n",
        "    w.writerow([\"xc\", \"yc\", \"xl\", \"yl\"])   # header\n",
        "    for p_cycl, p_line in zip(points_cycl, points_line):\n",
        "        w.writerow([\n",
        "            f\"{p_cycl[0]:.3f}\",\n",
        "            f\"{p_cycl[1]:.3f}\",\n",
        "            f\"{p_line[0]:.3f}\",\n",
        "            f\"{p_line[1]:.3f}\"\n",
        "        ])\n",
        "\n",
        "outfile = Path(\"cycloid_params.tex\")\n",
        "with outfile.open(\"w\", encoding=\"utf-8\", newline=\"\\n\") as f:\n",
        "    f.write(f\"\\\\def\\\\Radius{{{cycl_rad:.6f}}}\\n\")\n",
        "    f.write(f\"\\\\def\\\\Angle{{{final_time:.6f}}}\\n\")"
      ],
      "metadata": {
        "id": "wsJMTq8P6rua"
      },
      "execution_count": 7,
      "outputs": []
    }
  ]
}